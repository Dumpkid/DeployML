{
 "cells": [
  {
   "cell_type": "code",
   "execution_count": 49,
   "metadata": {},
   "outputs": [],
   "source": [
    "import pandas as pd\n",
    "import numpy as np\n",
    "df = pd.read_csv(\"milknew.csv\")\n",
    "x = df[['pH','Temprature','Fat ','Colour']]\n",
    "y = df[['Grade']]"
   ]
  },
  {
   "cell_type": "code",
   "execution_count": 50,
   "metadata": {},
   "outputs": [
    {
     "name": "stdout",
     "output_type": "stream",
     "text": [
      "       pH  Temprature  Taste  Odor  Fat   Turbidity  Colour   Grade\n",
      "0     6.6          35      1     0     1          0     254    high\n",
      "1     6.6          36      0     1     0          1     253    high\n",
      "2     8.5          70      1     1     1          1     246     low\n",
      "3     9.5          34      1     1     0          1     255     low\n",
      "4     6.6          37      0     0     0          0     255  medium\n",
      "...   ...         ...    ...   ...   ...        ...     ...     ...\n",
      "1054  6.7          45      1     1     0          0     247  medium\n",
      "1055  6.7          38      1     0     1          0     255    high\n",
      "1056  3.0          40      1     1     1          1     255     low\n",
      "1057  6.8          43      1     0     1          0     250    high\n",
      "1058  8.6          55      0     1     1          1     255     low\n",
      "\n",
      "[1059 rows x 8 columns]\n"
     ]
    }
   ],
   "source": [
    "print(df)"
   ]
  },
  {
   "cell_type": "code",
   "execution_count": 51,
   "metadata": {},
   "outputs": [
    {
     "name": "stdout",
     "output_type": "stream",
     "text": [
      "0.9622641509433962\n"
     ]
    }
   ],
   "source": [
    "from sklearn.model_selection import train_test_split\n",
    "x_train, x_test, y_train,  y_test = train_test_split(x, y, test_size=0.15, random_state=30)\n",
    "from sklearn.ensemble import RandomForestClassifier\n",
    "classifier=RandomForestClassifier()\n",
    "classifier.fit(x_train,np.ravel(y_train,order=\"c\"))\n",
    "predictions=classifier.predict(x_test)\n",
    "from sklearn.metrics import accuracy_score\n",
    "print(accuracy_score(y_test,predictions))"
   ]
  },
  {
   "cell_type": "code",
   "execution_count": 55,
   "metadata": {},
   "outputs": [
    {
     "data": {
      "text/plain": [
       "array([[34,  0,  4],\n",
       "       [ 0, 74,  0],\n",
       "       [ 2,  0, 45]], dtype=int64)"
      ]
     },
     "execution_count": 55,
     "metadata": {},
     "output_type": "execute_result"
    }
   ],
   "source": [
    "from sklearn.metrics import confusion_matrix\n",
    "confusion_matrix(y_test, predictions)"
   ]
  },
  {
   "cell_type": "code",
   "execution_count": 56,
   "metadata": {},
   "outputs": [
    {
     "name": "stdout",
     "output_type": "stream",
     "text": [
      "              precision    recall  f1-score   support\n",
      "\n",
      "        high       0.94      0.89      0.92        38\n",
      "         low       1.00      1.00      1.00        74\n",
      "      medium       0.92      0.96      0.94        47\n",
      "\n",
      "    accuracy                           0.96       159\n",
      "   macro avg       0.95      0.95      0.95       159\n",
      "weighted avg       0.96      0.96      0.96       159\n",
      "\n"
     ]
    }
   ],
   "source": [
    "from sklearn.metrics import classification_report\n",
    "print(classification_report(y_test, predictions))"
   ]
  },
  {
   "cell_type": "code",
   "execution_count": 54,
   "metadata": {},
   "outputs": [],
   "source": [
    "import pickle\n",
    "pickle.dump(classifier.fit(x_train, np.ravel(y_train,order=\"c\")), open('model.pkl','wb'))"
   ]
  }
 ],
 "metadata": {
  "kernelspec": {
   "display_name": "Python 3",
   "language": "python",
   "name": "python3"
  },
  "language_info": {
   "codemirror_mode": {
    "name": "ipython",
    "version": 3
   },
   "file_extension": ".py",
   "mimetype": "text/x-python",
   "name": "python",
   "nbconvert_exporter": "python",
   "pygments_lexer": "ipython3",
   "version": "3.10.6 (tags/v3.10.6:9c7b4bd, Aug  1 2022, 21:53:49) [MSC v.1932 64 bit (AMD64)]"
  },
  "orig_nbformat": 4,
  "vscode": {
   "interpreter": {
    "hash": "2469a70536e4d2335a2ea8907942d0699c37342a371ac185bdb5b0aa6f073890"
   }
  }
 },
 "nbformat": 4,
 "nbformat_minor": 2
}
